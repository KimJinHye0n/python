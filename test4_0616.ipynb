{
 "cells": [
  {
   "cell_type": "code",
   "execution_count": 306,
   "metadata": {},
   "outputs": [],
   "source": [
    "import pandas as pd \n",
    "import numpy as np\n",
    "import sklearn as sns\n",
    "import math"
   ]
  },
  {
   "cell_type": "code",
   "execution_count": 343,
   "metadata": {},
   "outputs": [],
   "source": [
    "critics={\n",
    "    'BTS':{'암수살인':5, '바울':4, '할로윈':1.5},\n",
    "    '손흥민':{'바울':5, '할로윈':2},\n",
    "    '레드벨벳':{'암수살인':2.5, '바울':2, '할로윈':1},\n",
    "    '트와이스':{'암수살인':3.5, '바울':4, '할로윈':5}\n",
    "}"
   ]
  },
  {
   "cell_type": "code",
   "execution_count": 414,
   "metadata": {},
   "outputs": [],
   "source": [
    "def simPearson(data, name1, name2) :\n",
    "    sum1 = 0\n",
    "    sum2 = 0\n",
    "    count = 0\n",
    "    for i in data[name1] :\n",
    "        if i in data[name2] :\n",
    "            sum1 += data[name1][i]\n",
    "            sum2 += data[name2][i]\n",
    "            count += 1\n",
    "    avg1 = sum1 / count\n",
    "    avg2 = sum2 / count\n",
    "\n",
    "    cov = 0\n",
    "    var1 = 0\n",
    "    var2 = 0\n",
    "    for i in data[name1] :\n",
    "        if i in data[name2] :\n",
    "            cov += (data[name1][i] - avg1)*(data[name2][i]-avg2)\n",
    "            var1 += (data[name1][i] - avg1)**2\n",
    "            var2 += (data[name2][i] - avg2)**2        \n",
    "\n",
    "    r = cov / (sqrt(var1)*sqrt(var2))\n",
    "    return r\n",
    "\n",
    "\n",
    "def topPearson(data, sim = simPearson) :\n",
    "    lists = []\n",
    "    names = []\n",
    "    for i in range(len(data)) :\n",
    "        for j in range(len(data)) :\n",
    "            if j <= i :\n",
    "                pass\n",
    "            else :\n",
    "                name1 = list(data.keys())[i]\n",
    "                name2 = list(data.keys())[j]\n",
    "                names.append([name1, name2])\n",
    "                if (name1 == name2) : \n",
    "                    pass\n",
    "                else :                \n",
    "                    lists.append(sim(data, name1, name2))\n",
    " \n",
    "                    \n",
    "    print(lists)\n",
    "    m = max(lists)\n",
    "    print(\"최고 상관계수 : \", m, \" / 최고 상관관계 : \",names[lists.index(m)])"
   ]
  },
  {
   "cell_type": "code",
   "execution_count": 429,
   "metadata": {},
   "outputs": [
    {
     "output_type": "stream",
     "name": "stdout",
     "text": "[1.0, 0.9986254289035241, -0.998625428903524, 1.0, -1.0, -0.9999999999999998]\n최고 상관계수 :  1.0  / 최고 상관관계 :  ['BTS', '손흥민']\n"
    }
   ],
   "source": [
    "topPearson(critics)"
   ]
  }
 ],
 "metadata": {
  "language_info": {
   "codemirror_mode": {
    "name": "ipython",
    "version": 3
   },
   "file_extension": ".py",
   "mimetype": "text/x-python",
   "name": "python",
   "nbconvert_exporter": "python",
   "pygments_lexer": "ipython3",
   "version": "3.7.7-final"
  },
  "orig_nbformat": 2,
  "kernelspec": {
   "name": "python37764bitea85e9b7281e47f9b9736684a656701a",
   "display_name": "Python 3.7.7 64-bit"
  }
 },
 "nbformat": 4,
 "nbformat_minor": 2
}