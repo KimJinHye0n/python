{
 "cells": [
  {
   "cell_type": "code",
   "execution_count": 1,
   "metadata": {},
   "outputs": [],
   "source": [
    "import os\n",
    "import pandas as pd\n",
    "import numpy as np\n",
    "import matplotlib.pyplot as plt\n",
    "%matplotlib inline\n",
    "\n",
    "from sklearn import preprocessing\n",
    "from tensorflow.keras.preprocessing.text import Tokenizer\n",
    "from tensorflow.keras.preprocessing.sequence import pad_sequences\n",
    "from tensorflow.keras.utils import to_categorical\n",
    "from sklearn.metrics import classification_report\n",
    "import urllib.request"
   ]
  },
  {
   "cell_type": "code",
   "execution_count": 2,
   "metadata": {},
   "outputs": [
    {
     "data": {
      "text/plain": [
       "('test_label.npy', <http.client.HTTPMessage at 0x19eac044708>)"
      ]
     },
     "execution_count": 2,
     "metadata": {},
     "output_type": "execute_result"
    }
   ],
   "source": [
    "urllib.request.urlretrieve(\"https://github.com/ajinkyaT/CNN_Intent_Classification/raw/master/data/train_text.npy\", filename=\"train_text.npy\")\n",
    "urllib.request.urlretrieve(\"https://github.com/ajinkyaT/CNN_Intent_Classification/raw/master/data/test_text.npy\", filename=\"test_text.npy\")\n",
    "urllib.request.urlretrieve(\"https://github.com/ajinkyaT/CNN_Intent_Classification/raw/master/data/train_label.npy\", filename=\"train_label.npy\")\n",
    "urllib.request.urlretrieve(\"https://github.com/ajinkyaT/CNN_Intent_Classification/raw/master/data/test_label.npy\", filename=\"test_label.npy\")"
   ]
  },
  {
   "cell_type": "code",
   "execution_count": 3,
   "metadata": {},
   "outputs": [],
   "source": [
    "old = np.load\n",
    "np.load = lambda *a,**k : old(*a, allow_pickle=True, **k)"
   ]
  },
  {
   "cell_type": "code",
   "execution_count": 4,
   "metadata": {},
   "outputs": [],
   "source": [
    "intent_train=np.load(open('train_text.npy', 'rb')).tolist()\n",
    "label_train=np.load(open('train_label.npy', 'rb')).tolist()\n",
    "intent_test=np.load(open('test_text.npy', 'rb')).tolist()\n",
    "label_test=np.load(open('test_label.npy', 'rb')).tolist()"
   ]
  },
  {
   "cell_type": "code",
   "execution_count": 6,
   "metadata": {},
   "outputs": [
    {
     "name": "stdout",
     "output_type": "stream",
     "text": [
      "훈련용 문장 수 : 11784\n",
      "훈련용 레이블 수 : 11784\n",
      "테스트용 문장 수 : 600\n",
      "테스트용 레이블 수 : 600\n"
     ]
    }
   ],
   "source": [
    "print(\"훈련용 문장 수 :\", len(intent_train))\n",
    "print(\"훈련용 레이블 수 :\", len(label_train))\n",
    "print(\"테스트용 문장 수 :\", len(intent_test))\n",
    "print(\"테스트용 레이블 수 :\", len(label_test))"
   ]
  },
  {
   "cell_type": "code",
   "execution_count": 12,
   "metadata": {},
   "outputs": [
    {
     "data": {
      "text/plain": [
       "(array([0, 1, 2, 3, 4, 5]), <a list of 6 Text xticklabel objects>)"
      ]
     },
     "execution_count": 12,
     "metadata": {},
     "output_type": "execute_result"
    },
    {
     "data": {
      "image/png": "[encoded data removed]",
      "text/plain": [
       "<Figure size 432x288 with 1 Axes>"
      ]
     },
     "metadata": {
      "needs_background": "light"
     },
     "output_type": "display_data"
    }
   ],
   "source": [
    "# 훈련데이터에 존재하는 6개의 카테고리 / 각 데이터당 2000개씩 존재\n",
    "temp=pd.Series(label_train)\n",
    "temp.value_counts().plot(kind='bar')\n",
    "plt.xticks(rotation=45)"
   ]
  },
  {
   "cell_type": "code",
   "execution_count": 14,
   "metadata": {},
   "outputs": [],
   "source": [
    "#6개 항목 라벨인코딩\n",
    "\n",
    "idx_encode=preprocessing.LabelEncoder()\n",
    "idx_encode.fit(label_train)\n",
    "\n",
    "label_train = idx_encode.transform(label_train)\n",
    "label_test = idx_encode.transform(label_test)\n",
    "\n",
    "label_idx=dict(zip(list(idx_encode.classes_), idx_encode.transform(list(idx_encode.classes_))))"
   ]
  },
  {
   "cell_type": "code",
   "execution_count": 15,
   "metadata": {},
   "outputs": [
    {
     "name": "stdout",
     "output_type": "stream",
     "text": [
      "{'AddToPlaylist': 0, 'BookRestaurant': 1, 'GetWeather': 2, 'RateBook': 3, 'SearchCreativeWork': 4, 'SearchScreeningEvent': 5}\n"
     ]
    }
   ],
   "source": [
    "print(label_idx)"
   ]
  },
  {
   "cell_type": "code",
   "execution_count": 17,
   "metadata": {},
   "outputs": [
    {
     "data": {
      "text/plain": [
       "[[11, 191, 61, 4, 1, 4013, 1141, 1572, 15],\n",
       " [11, 2624, 1573, 3, 14, 15, 939, 82, 256, 188, 548],\n",
       " [11, 187, 42, 2625, 4014, 4, 1968],\n",
       " [11, 2626, 22, 2627, 4, 14, 192, 27],\n",
       " [11, 92, 4, 14, 651, 520, 195]]"
      ]
     },
     "execution_count": 17,
     "metadata": {},
     "output_type": "execute_result"
    }
   ],
   "source": [
    "tokenizer = Tokenizer()\n",
    "tokenizer.fit_on_texts(intent_train)\n",
    "sequences=tokenizer.texts_to_sequences(intent_train)\n",
    "sequences[:5]"
   ]
  },
  {
   "cell_type": "code",
   "execution_count": 18,
   "metadata": {},
   "outputs": [
    {
     "name": "stdout",
     "output_type": "stream",
     "text": [
      "단어집합크기 : 9870\n"
     ]
    }
   ],
   "source": [
    "# 단어 집합 크기 : 9870 / 최대길이 : 35 / 평균길이 : 9.364392396469789\n",
    "word_index=tokenizer.word_index\n",
    "vocab_size=len(word_index)+1\n",
    "print(\"단어집합크기 :\", vocab_size)"
   ]
  },
  {
   "cell_type": "code",
   "execution_count": 20,
   "metadata": {},
   "outputs": [
    {
     "data": {
      "image/png": "[encoded data removed]",
      "text/plain": [
       "<Figure size 432x288 with 1 Axes>"
      ]
     },
     "metadata": {
      "needs_background": "light"
     },
     "output_type": "display_data"
    }
   ],
   "source": [
    "plt.hist([len(s) for s in sequences],bins=50)\n",
    "plt.xlabel('length of samples')\n",
    "plt.ylabel('number of samples')\n",
    "plt.show()"
   ]
  },
  {
   "cell_type": "code",
   "execution_count": 22,
   "metadata": {},
   "outputs": [],
   "source": [
    "# 최대길이 35 -> 패딩 35\n",
    "max_len = 35\n",
    "intent_train = pad_sequences(sequences, maxlen=max_len) # 길이 맞춰주는 작업 17784,35\n",
    "label_train = to_categorical(np.asarray(label_train)) #17784,6"
   ]
  },
  {
   "cell_type": "code",
   "execution_count": 23,
   "metadata": {},
   "outputs": [],
   "source": [
    "indices = np.arange(intent_train.shape[0]) # 해당 크기 행렬로 반환\n",
    "np.random.shuffle(indices)"
   ]
  },
  {
   "cell_type": "code",
   "execution_count": 24,
   "metadata": {},
   "outputs": [],
   "source": [
    "intent_train = intent_train[indices]\n",
    "label_train = label_train[indices]"
   ]
  },
  {
   "cell_type": "code",
   "execution_count": 25,
   "metadata": {},
   "outputs": [],
   "source": [
    "n_of_val=int(0.1*intent_train.shape[0]) # 1178"
   ]
  },
  {
   "cell_type": "code",
   "execution_count": 27,
   "metadata": {},
   "outputs": [],
   "source": [
    "xtrain = intent_train[:n_of_val]\n",
    "ytrain = label_train[:n_of_val]\n",
    "xval = intent_train[-n_of_val:]\n",
    "yval = label_train[-n_of_val:]\n",
    "xtest = intent_test\n",
    "ytest = label_test"
   ]
  },
  {
   "cell_type": "code",
   "execution_count": 30,
   "metadata": {
    "scrolled": true
   },
   "outputs": [
    {
     "name": "stdout",
     "output_type": "stream",
     "text": [
      "[[   0    0    0 ...    6    1 1073]\n",
      " [   0    0    0 ...  121   76   32]\n",
      " [   0    0    0 ...    7  266 6195]\n",
      " ...\n",
      " [   0    0    0 ...    2 1460   26]\n",
      " [   0    0    0 ...    1 2229 8586]\n",
      " [   0    0    0 ...    1 7775  121]]\n"
     ]
    }
   ],
   "source": [
    "print(intent_train)"
   ]
  },
  {
   "cell_type": "code",
   "execution_count": 31,
   "metadata": {},
   "outputs": [
    {
     "name": "stdout",
     "output_type": "stream",
     "text": [
      "400000개의 Embedding vector가 있습니다.\n"
     ]
    }
   ],
   "source": [
    "embedding_dict = dict()\n",
    "f = open(os.path.join('glove.6B.100d.txt'), encoding='utf-8')\n",
    "for line in f:\n",
    "    word_vector = line.split()\n",
    "    word = word_vector[0]\n",
    "    word_vector_arr = np.asarray(word_vector[1:], dtype='float32') # 100개의 값을 가지는 array로 변환\n",
    "    embedding_dict[word] = word_vector_arr\n",
    "f.close()\n",
    "\n",
    "print('%s개의 Embedding vector가 있습니다.' % len(embedding_dict))"
   ]
  },
  {
   "cell_type": "code",
   "execution_count": 32,
   "metadata": {},
   "outputs": [
    {
     "data": {
      "text/plain": [
       "(9870, 100)"
      ]
     },
     "execution_count": 32,
     "metadata": {},
     "output_type": "execute_result"
    }
   ],
   "source": [
    "# 사전훈련 임베딩 벡터 차원 100\n",
    "embedding_dim = 100\n",
    "embedding_matrix = np.zeros((vocab_size, embedding_dim))\n",
    "np.shape(embedding_matrix)"
   ]
  },
  {
   "cell_type": "code",
   "execution_count": 46,
   "metadata": {},
   "outputs": [],
   "source": [
    "# 훈련데이터에 있는 단어들과 맵핑되는 사전 임베딩 벡터값 테이블에 저장\n",
    "for word, i in word_index.items():\n",
    "    embedding_vector = embedding_dict.get(word)\n",
    "    if embedding_vector is not None:\n",
    "        embedding_matrix[i] = embedding_vector"
   ]
  },
  {
   "cell_type": "code",
   "execution_count": 47,
   "metadata": {},
   "outputs": [],
   "source": [
    "from tensorflow.keras.models import Model, Sequential\n",
    "from tensorflow.keras.layers import LSTM, Embedding, Dense\n",
    "from tensorflow.keras.callbacks import EarlyStopping, ModelCheckpoint"
   ]
  },
  {
   "cell_type": "code",
   "execution_count": 48,
   "metadata": {},
   "outputs": [],
   "source": [
    "model = Sequential()\n",
    "model.add(Embedding(vocab_size, 100))\n",
    "model.add(LSTM(100))\n",
    "model.add(Dense(6, activation='softmax'))"
   ]
  },
  {
   "cell_type": "code",
   "execution_count": 49,
   "metadata": {},
   "outputs": [
    {
     "name": "stdout",
     "output_type": "stream",
     "text": [
      "Model: \"sequential_2\"\n",
      "_________________________________________________________________\n",
      "Layer (type)                 Output Shape              Param #   \n",
      "=================================================================\n",
      "embedding_2 (Embedding)      (None, None, 100)         987000    \n",
      "_________________________________________________________________\n",
      "lstm_2 (LSTM)                (None, 100)               80400     \n",
      "_________________________________________________________________\n",
      "dense_2 (Dense)              (None, 6)                 606       \n",
      "=================================================================\n",
      "Total params: 1,068,006\n",
      "Trainable params: 1,068,006\n",
      "Non-trainable params: 0\n",
      "_________________________________________________________________\n"
     ]
    }
   ],
   "source": [
    "model.compile(loss='categorical_crossentropy',optimizer='adam',metrics=['acc'])\n",
    "model.summary()"
   ]
  },
  {
   "cell_type": "code",
   "execution_count": 51,
   "metadata": {},
   "outputs": [
    {
     "name": "stdout",
     "output_type": "stream",
     "text": [
      "Epoch 1/10\n",
      "20/20 [==============================] - 2s 117ms/step - loss: 1.7377 - acc: 0.3421 - val_loss: 1.6294 - val_acc: 0.5637\n",
      "Epoch 2/10\n",
      "20/20 [==============================] - 2s 86ms/step - loss: 1.3208 - acc: 0.6087 - val_loss: 1.0462 - val_acc: 0.7742\n",
      "Epoch 3/10\n",
      "20/20 [==============================] - 2s 90ms/step - loss: 0.7052 - acc: 0.8480 - val_loss: 0.5575 - val_acc: 0.8693\n",
      "Epoch 4/10\n",
      "20/20 [==============================] - 2s 85ms/step - loss: 0.3006 - acc: 0.9474 - val_loss: 0.3157 - val_acc: 0.8964\n",
      "Epoch 5/10\n",
      "20/20 [==============================] - 2s 87ms/step - loss: 0.1412 - acc: 0.9711 - val_loss: 0.1941 - val_acc: 0.9482\n",
      "Epoch 6/10\n",
      "20/20 [==============================] - 2s 88ms/step - loss: 0.0741 - acc: 0.9822 - val_loss: 0.1664 - val_acc: 0.9533\n",
      "Epoch 7/10\n",
      "20/20 [==============================] - 2s 87ms/step - loss: 0.0603 - acc: 0.9873 - val_loss: 0.2010 - val_acc: 0.9338\n",
      "Epoch 8/10\n",
      "20/20 [==============================] - 2s 87ms/step - loss: 0.0394 - acc: 0.9949 - val_loss: 0.1465 - val_acc: 0.9474\n",
      "Epoch 9/10\n",
      "20/20 [==============================] - 2s 87ms/step - loss: 0.0272 - acc: 0.9949 - val_loss: 0.1534 - val_acc: 0.9516\n",
      "Epoch 10/10\n",
      "20/20 [==============================] - 2s 86ms/step - loss: 0.0258 - acc: 0.9966 - val_loss: 0.1468 - val_acc: 0.9508\n"
     ]
    }
   ],
   "source": [
    "history = model.fit(xtrain, ytrain, epochs=10, batch_size=60, validation_data=(xval, yval))"
   ]
  },
  {
   "cell_type": "code",
   "execution_count": 52,
   "metadata": {},
   "outputs": [
    {
     "data": {
      "image/png": "[encoded data removed]",
      "text/plain": [
       "<Figure size 432x288 with 1 Axes>"
      ]
     },
     "metadata": {
      "needs_background": "light"
     },
     "output_type": "display_data"
    },
    {
     "data": {
      "image/png": "[encoded data removed]",
      "text/plain": [
       "<Figure size 432x288 with 1 Axes>"
      ]
     },
     "metadata": {
      "needs_background": "light"
     },
     "output_type": "display_data"
    }
   ],
   "source": [
    "epochs = range(1, len(history.history['acc']) + 1)\n",
    "plt.plot(epochs, history.history['acc'])\n",
    "plt.plot(epochs, history.history['val_acc'])\n",
    "plt.title('model accuracy')\n",
    "plt.ylabel('accuracy')\n",
    "plt.xlabel('epochs')\n",
    "plt.legend(['train', 'test'], loc='lower right')\n",
    "plt.show()\n",
    "\n",
    "epochs = range(1, len(history.history['loss']) + 1)\n",
    "plt.plot(epochs, history.history['loss'])\n",
    "plt.plot(epochs, history.history['val_loss'])\n",
    "plt.title('model loss')\n",
    "plt.ylabel('loss')\n",
    "plt.xlabel('epochs')\n",
    "plt.legend(['train', 'test'], loc='upper right')\n",
    "plt.show()"
   ]
  },
  {
   "cell_type": "code",
   "execution_count": 53,
   "metadata": {},
   "outputs": [],
   "source": [
    "xtest = tokenizer.texts_to_sequences(xtest)\n",
    "xtest = pad_sequences(xtest, maxlen=max_len)"
   ]
  },
  {
   "cell_type": "code",
   "execution_count": 54,
   "metadata": {},
   "outputs": [],
   "source": [
    "ypredicted = model.predict(xtest)\n",
    "ypredicted = ypredicted.argmax(axis=-1) # 예측된 정수 시퀀스로 변환"
   ]
  },
  {
   "cell_type": "code",
   "execution_count": 55,
   "metadata": {},
   "outputs": [],
   "source": [
    "ypredicted = idx_encode.inverse_transform(ypredicted) # 정수 시퀀스를 레이블에 해당하는 텍스트 시퀀스로 변환\n",
    "ytest = idx_encode.inverse_transform(ytest) # 정수 시퀀스를 레이블에 해당하는 텍스트 시퀀스로 변환"
   ]
  },
  {
   "cell_type": "code",
   "execution_count": 57,
   "metadata": {},
   "outputs": [
    {
     "name": "stdout",
     "output_type": "stream",
     "text": [
      "accuracy:  0.9583333333333334\n",
      "Precision, Recall and F1-Score:\n",
      "\n",
      "                       precision    recall  f1-score   support\n",
      "\n",
      "       AddToPlaylist       1.00      1.00      1.00       100\n",
      "      BookRestaurant       0.99      0.98      0.98       100\n",
      "          GetWeather       0.99      0.97      0.98       100\n",
      "            RateBook       0.99      0.99      0.99       100\n",
      "  SearchCreativeWork       0.82      0.97      0.89       100\n",
      "SearchScreeningEvent       0.99      0.84      0.91       100\n",
      "\n",
      "            accuracy                           0.96       600\n",
      "           macro avg       0.96      0.96      0.96       600\n",
      "        weighted avg       0.96      0.96      0.96       600\n",
      "\n"
     ]
    }
   ],
   "source": [
    "print('accuracy: ', sum(ypredicted == ytest) / len(ytest))\n",
    "print(\"Precision, Recall and F1-Score:\\n\\n\", classification_report(ytest, ypredicted))"
   ]
  },
  {
   "cell_type": "code",
   "execution_count": null,
   "metadata": {},
   "outputs": [],
   "source": []
  }
 ],
 "metadata": {
  "kernelspec": {
   "display_name": "Python 3",
   "language": "python",
   "name": "python3"
  },
  "language_info": {
   "codemirror_mode": {
    "name": "ipython",
    "version": 3
   },
   "file_extension": ".py",
   "mimetype": "text/x-python",
   "name": "python",
   "nbconvert_exporter": "python",
   "pygments_lexer": "ipython3",
   "version": "3.7.6"
  }
 },
 "nbformat": 4,
 "nbformat_minor": 4
}
